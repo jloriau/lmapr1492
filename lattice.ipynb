{
 "cells": [
  {
   "cell_type": "code",
   "execution_count": 1,
   "id": "speaking-africa",
   "metadata": {},
   "outputs": [],
   "source": [
    "from pymatgen.ext.matproj import MPRester\n",
    "from pymatgen import Structure\n",
    "from pymatgen.io.cif import CifWriter \n",
    "from pymatgen.symmetry.analyzer import SpacegroupAnalyzer\n"
   ]
  },
  {
   "cell_type": "code",
   "execution_count": 2,
   "id": "recognized-cornwall",
   "metadata": {},
   "outputs": [],
   "source": [
    "with MPRester(\"pte9sXqn7RBHRMrR72d\") as m:\n",
    "\n",
    "    # Structure for material id\n",
    "    structure = m.get_structure_by_material_id(\"mp-1018091\")\n",
    "    w = CifWriter(structure);\n",
    "    w.write_file('mystructuremp-1018091.cif')\n"
   ]
  },
  {
   "cell_type": "code",
   "execution_count": 3,
   "id": "supposed-wedding",
   "metadata": {},
   "outputs": [
    {
     "data": {
      "text/plain": [
       "Structure Summary\n",
       "Lattice\n",
       "    abc : 4.385200345825148 4.385200345825148 4.9679\n",
       " angles : 90.0 90.0 120.00000521745997\n",
       " volume : 82.7336783371406\n",
       "      A : 2.1926 -3.797695 0.0\n",
       "      B : 2.1926 3.797695 0.0\n",
       "      C : 0.0 0.0 4.9679\n",
       "PeriodicSite: Ca (0.0000, 0.0000, 0.0000) [0.0000, 0.0000, 0.0000]\n",
       "PeriodicSite: Ga (2.1926, -1.2659, 3.0622) [0.6667, 0.3333, 0.6164]\n",
       "PeriodicSite: Sn (2.1926, 1.2659, 2.2182) [0.3333, 0.6667, 0.4465]\n",
       "PeriodicSite: H (2.1926, -1.2659, 4.7891) [0.6667, 0.3333, 0.9640]"
      ]
     },
     "execution_count": 3,
     "metadata": {},
     "output_type": "execute_result"
    }
   ],
   "source": [
    "# fichier de la structure\n",
    "structure"
   ]
  },
  {
   "cell_type": "code",
   "execution_count": 8,
   "id": "eligible-style",
   "metadata": {},
   "outputs": [
    {
     "name": "stdout",
     "output_type": "stream",
     "text": [
      "Vecteurs de base du réseau direct\n",
      "Norme de a = 4.385200345825148 avec alpha = 90.0°\n",
      "Norme de b = 4.385200345825148 avec beta = 90.0°\n",
      "Norme de c = 4.9679 avec gamma = 120.00000521745997°\n"
     ]
    }
   ],
   "source": [
    "# vecteurs de base réseau direct\n",
    "\n",
    "lattice = structure.lattice\n",
    "normes = lattice.abc\n",
    "angles = lattice.angles\n",
    "\n",
    "print(\"Vecteurs de base du réseau direct\")\n",
    "print(\"Norme de a = {} avec alpha = {}°\".format(normes[0], angles[0]))\n",
    "print(\"Norme de b = {} avec beta = {}°\".format(normes[1], angles[1]))\n",
    "print(\"Norme de c = {} avec gamma = {}°\".format(normes[2], angles[2]))"
   ]
  },
  {
   "cell_type": "code",
   "execution_count": 10,
   "id": "published-sustainability",
   "metadata": {},
   "outputs": [
    {
     "name": "stdout",
     "output_type": "stream",
     "text": [
      "Vecteurs de base du réseau réciproques\n",
      "Norme de a* = 1.6544735168789062 avec alpha* = 90.0°\n",
      "Norme de b* = 1.6544735168789062 avec beta* = 90.0°\n",
      "Norme de c* = 1.2647568000925111 avec gamma* = 59.99999478254°\n"
     ]
    }
   ],
   "source": [
    "# vecteurs de base réseau réciproque\n",
    "\n",
    "lattice_reciprocal = lattice.reciprocal_lattice\n",
    "normes_reciprocal = lattice_reciprocal.abc\n",
    "angles_reciprocal = lattice_reciprocal.angles\n",
    "\n",
    "print(\"Vecteurs de base du réseau réciproques\")\n",
    "print(\"Norme de a* = {} avec alpha* = {}°\".format(normes_reciprocal[0], angles_reciprocal[0]))\n",
    "print(\"Norme de b* = {} avec beta* = {}°\".format(normes_reciprocal[1], angles_reciprocal[1]))\n",
    "print(\"Norme de c* = {} avec gamma* = {}°\".format(normes_reciprocal[2], angles_reciprocal[2]))\n"
   ]
  },
  {
   "cell_type": "code",
   "execution_count": 12,
   "id": "latter-poverty",
   "metadata": {},
   "outputs": [],
   "source": [
    "# Analyseur\n",
    "structure_analysed = SpacegroupAnalyzer(structure)"
   ]
  },
  {
   "cell_type": "code",
   "execution_count": 15,
   "id": "anticipated-edwards",
   "metadata": {},
   "outputs": [
    {
     "name": "stdout",
     "output_type": "stream",
     "text": [
      "maille : hexagonal\n"
     ]
    }
   ],
   "source": [
    "# type de maille\n",
    "\n",
    "lattice_type = structure_analysed.get_lattice_type()\n",
    "print(\"maille : {}\".format(lattice_type))"
   ]
  },
  {
   "cell_type": "code",
   "execution_count": 14,
   "id": "champion-skill",
   "metadata": {},
   "outputs": [
    {
     "name": "stdout",
     "output_type": "stream",
     "text": [
      "système cristallin : trigonal\n"
     ]
    }
   ],
   "source": [
    "# système cristallin\n",
    "\n",
    "crystal_system = structure_analysed.get_crystal_system()\n",
    "print(\"système cristallin : {}\".format(crystal_system))"
   ]
  },
  {
   "cell_type": "code",
   "execution_count": 16,
   "id": "dietary-renaissance",
   "metadata": {},
   "outputs": [
    {
     "name": "stdout",
     "output_type": "stream",
     "text": [
      "groupe ponctuel : 3m\n"
     ]
    }
   ],
   "source": [
    "# groupe ponctuel\n",
    "\n",
    "point_group = structure_analysed.get_point_group_symbol()\n",
    "print(\"groupe ponctuel : {}\".format(point_group))"
   ]
  },
  {
   "cell_type": "code",
   "execution_count": null,
   "id": "checked-sociology",
   "metadata": {},
   "outputs": [],
   "source": []
  }
 ],
 "metadata": {
  "kernelspec": {
   "display_name": "Python 3",
   "language": "python",
   "name": "python3"
  },
  "language_info": {
   "codemirror_mode": {
    "name": "ipython",
    "version": 3
   },
   "file_extension": ".py",
   "mimetype": "text/x-python",
   "name": "python",
   "nbconvert_exporter": "python",
   "pygments_lexer": "ipython3",
   "version": "3.6.8"
  }
 },
 "nbformat": 4,
 "nbformat_minor": 5
}
