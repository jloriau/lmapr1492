{
 "cells": [
  {
   "cell_type": "code",
   "execution_count": 95,
   "id": "formed-processor",
   "metadata": {},
   "outputs": [],
   "source": [
    "#Loriau Jade\n",
    "#Je choisis les 3 opérations de symetrie dans le fichier cif créé\n",
    "#il y a 4 atomes : Ca, Ga, Sn, H leurs positions sont dans le fichier cif\n",
    "\n",
    "Ca = [0.0, 0.0, 0.0]\n",
    "Ga = [0.667, 0.333, 0.616]\n",
    "Sn = [0.333, 0.667, 0.446]\n",
    "H = [0.667, 0.333, 0.964]"
   ]
  },
  {
   "cell_type": "code",
   "execution_count": 99,
   "id": "extreme-reproduction",
   "metadata": {},
   "outputs": [],
   "source": [
    "#import\n",
    "from pymatgen.ext.matproj import MPRester\n",
    "from pymatgen import Structure\n",
    "from pymatgen.io.cif import CifWriter \n",
    "from jupyter_jsmol.pymatgen import quick_view\n",
    "\n",
    "from jupyter_jsmol import JsmolView\n",
    "from ipywidgets import Layout, widgets, interact\n",
    "\n",
    "from pymatgen.core.operations import *"
   ]
  },
  {
   "cell_type": "code",
   "execution_count": 100,
   "id": "ignored-brazil",
   "metadata": {},
   "outputs": [],
   "source": [
    "#telechargement fichier cif et ecriture de la structure\n",
    "with MPRester(\"pte9sXqn7RBHRMrR72d\") as m:\n",
    "\n",
    "    # Structure for material id\n",
    "    structure = m.get_structure_by_material_id(\"mp-1018091\")\n",
    "    w = CifWriter(structure, 0.1);\n",
    "    w.write_file('mystruct.cif')"
   ]
  },
  {
   "cell_type": "code",
   "execution_count": 109,
   "id": "balanced-stream",
   "metadata": {},
   "outputs": [
    {
     "data": {
      "application/vnd.jupyter.widget-view+json": {
       "model_id": "fee05ccb16f74267b1043cbb9511d9f0",
       "version_major": 2,
       "version_minor": 0
      },
      "text/plain": [
       "JsmolView(layout=Layout(align_self='stretch', height='400px'))"
      ]
     },
     "metadata": {},
     "output_type": "display_data"
    }
   ],
   "source": [
    "\n",
    "s = Structure.from_file(\"mystruct.cif\")\n",
    "view = quick_view(s)\n",
    "\n",
    "display(view)"
   ]
  },
  {
   "cell_type": "code",
   "execution_count": 110,
   "id": "natural-poster",
   "metadata": {},
   "outputs": [],
   "source": [
    "view.script('select hydrogen; label on; color white')\n",
    "view.script('select tin; label on; color grey')\n",
    "view.script('select calcium; label on; color green')\n",
    "view.script('select gallium; label on; color pink')"
   ]
  },
  {
   "cell_type": "code",
   "execution_count": 111,
   "id": "suited-avatar",
   "metadata": {},
   "outputs": [
    {
     "name": "stdout",
     "output_type": "stream",
     "text": [
      "l'opération de symetrie est représentée sur le schéma ci-dessus\n",
      "le point Ga se retrouve en :  [-0.334  0.333  0.616]\n",
      "la matrice de rotation est : \n",
      " [[-1.  1.  0.]\n",
      " [ 0.  1.  0.]\n",
      " [ 0.  0.  1.]]\n",
      "le vecteur de translation est : [0, 0, 0]\n"
     ]
    }
   ],
   "source": [
    "# operation de symetrie sur l'atome 2 ->Ga\n",
    "print(\"l'opération de symetrie est représentée sur le schéma ci-dessus\")\n",
    "view.script(\"draw symop 5 {atomno=2}\")\n",
    "\n",
    "#operation de symetrie\n",
    "sym1 = SymmOp.from_xyz_string('-x+y, y, z')\n",
    "\n",
    "#operation sur le Ga\n",
    "s1 = sym1.operate(Ga)\n",
    "print('le point Ga se retrouve en : ', s1)\n",
    "\n",
    "#la matrice de rotation\n",
    "m1 = sym1.rotation_matrix\n",
    "print(\"la matrice de rotation est : \\n\",m1 )\n",
    "\n",
    "#le vecteur de translation\n",
    "print(\"le vecteur de translation est : [0, 0, 0]\")"
   ]
  },
  {
   "cell_type": "code",
   "execution_count": 107,
   "id": "falling-resident",
   "metadata": {},
   "outputs": [],
   "source": [
    "view.fullscreen()"
   ]
  },
  {
   "cell_type": "code",
   "execution_count": 108,
   "id": "prompt-panic",
   "metadata": {},
   "outputs": [],
   "source": [
    "view.close()"
   ]
  },
  {
   "cell_type": "code",
   "execution_count": 112,
   "id": "beginning-glucose",
   "metadata": {},
   "outputs": [
    {
     "data": {
      "application/vnd.jupyter.widget-view+json": {
       "model_id": "66433f9f676045afa52fa32450e86d27",
       "version_major": 2,
       "version_minor": 0
      },
      "text/plain": [
       "JsmolView(layout=Layout(align_self='stretch', height='400px'))"
      ]
     },
     "metadata": {},
     "output_type": "display_data"
    }
   ],
   "source": [
    "\n",
    "view1 = quick_view(s)\n",
    "display(view1)\n"
   ]
  },
  {
   "cell_type": "code",
   "execution_count": 113,
   "id": "wired-demographic",
   "metadata": {},
   "outputs": [],
   "source": [
    "\n",
    "view1.script('select hydrogen; label on; color white')\n",
    "view1.script('select tin; label on; color grey')\n",
    "view1.script('select calcium; label on; color green')\n",
    "view1.script('select gallium; label on; color pink')"
   ]
  },
  {
   "cell_type": "code",
   "execution_count": 114,
   "id": "sapphire-gauge",
   "metadata": {},
   "outputs": [
    {
     "name": "stdout",
     "output_type": "stream",
     "text": [
      "l'opération de symetrie est représentée sur le schéma ci-dessus\n",
      "le point Ca se retrouve en :  [0. 0. 0.]\n",
      "la matrice de rotation est \n",
      " :  [[ 1.  0.  0.]\n",
      " [ 1. -1.  0.]\n",
      " [ 0.  0.  1.]]\n",
      "le vecteur de translation est : [0, 0, 0]\n"
     ]
    }
   ],
   "source": [
    "# operation de symetrie sur l'atome 1 ->Ca\n",
    "print(\"l'opération de symetrie est représentée sur le schéma ci-dessus\")\n",
    "view1.script(\"draw symop 6 {atomno=1}\")\n",
    "\n",
    "#operation de symetrie\n",
    "sym2 = SymmOp.from_xyz_string('x, x-y, z')\n",
    "\n",
    "#operation sur le Ga\n",
    "s2 = sym2.operate(Ca)\n",
    "print('le point Ca se retrouve en : ', s2)\n",
    "\n",
    "#la matrice de rotation\n",
    "m2 = sym2.rotation_matrix\n",
    "print(\"la matrice de rotation est \\n : \",m2 )\n",
    "\n",
    "#le vecteur de translation\n",
    "print(\"le vecteur de translation est : [0, 0, 0]\")"
   ]
  },
  {
   "cell_type": "code",
   "execution_count": 85,
   "id": "ancient-consultation",
   "metadata": {},
   "outputs": [],
   "source": [
    "view1.fullscreen()"
   ]
  },
  {
   "cell_type": "code",
   "execution_count": null,
   "id": "norwegian-render",
   "metadata": {},
   "outputs": [],
   "source": [
    "view1.close()"
   ]
  },
  {
   "cell_type": "code",
   "execution_count": 115,
   "id": "indirect-teach",
   "metadata": {},
   "outputs": [
    {
     "data": {
      "application/vnd.jupyter.widget-view+json": {
       "model_id": "277807475eef40c289a73a1bbe1e9c6e",
       "version_major": 2,
       "version_minor": 0
      },
      "text/plain": [
       "JsmolView(layout=Layout(align_self='stretch', height='400px'))"
      ]
     },
     "metadata": {},
     "output_type": "display_data"
    }
   ],
   "source": [
    "view2 = quick_view(s)\n",
    "display(view2)\n"
   ]
  },
  {
   "cell_type": "code",
   "execution_count": 116,
   "id": "innocent-state",
   "metadata": {},
   "outputs": [],
   "source": [
    "\n",
    "view2.script('select hydrogen; label on; color white')\n",
    "view2.script('select tin; label on; color grey')\n",
    "view2.script('select calcium; label on; color green')\n",
    "view2.script('select gallium; label on; color pink')"
   ]
  },
  {
   "cell_type": "code",
   "execution_count": 117,
   "id": "controversial-murder",
   "metadata": {},
   "outputs": [
    {
     "name": "stdout",
     "output_type": "stream",
     "text": [
      "l'opération de symetrie est représentée sur le schéma ci-dessus\n",
      "le point Ca se retrouve en :  [-0.667 -0.333  0.446]\n",
      "la matrice de rotation est \n",
      " :  [[ 0. -1.  0.]\n",
      " [-1.  0.  0.]\n",
      " [ 0.  0.  1.]]\n",
      "le vecteur de translation est : [0, 0, 0]\n"
     ]
    }
   ],
   "source": [
    "# operation de symetrie sur l'atome 3 ->Sn\n",
    "print(\"l'opération de symetrie est représentée sur le schéma ci-dessus\")\n",
    "view2.script(\"draw symop 4 {atomno=3}\")\n",
    "\n",
    "#operation de symetrie\n",
    "sym3 = SymmOp.from_xyz_string('-y, -x, z')\n",
    "\n",
    "#operation sur le Ga\n",
    "s3 = sym3.operate(Sn)\n",
    "print('le point Ca se retrouve en : ', s3)\n",
    "\n",
    "#la matrice de rotation\n",
    "m3 = sym3.rotation_matrix\n",
    "print(\"la matrice de rotation est \\n : \",m3 )\n",
    "\n",
    "#le vecteur de translation\n",
    "print(\"le vecteur de translation est : [0, 0, 0]\")"
   ]
  },
  {
   "cell_type": "code",
   "execution_count": 87,
   "id": "wrong-publisher",
   "metadata": {},
   "outputs": [],
   "source": [
    "view2.fullscreen()"
   ]
  },
  {
   "cell_type": "code",
   "execution_count": null,
   "id": "rubber-resource",
   "metadata": {},
   "outputs": [],
   "source": [
    "view2.close()"
   ]
  }
 ],
 "metadata": {
  "kernelspec": {
   "display_name": "Python 3",
   "language": "python",
   "name": "python3"
  },
  "language_info": {
   "codemirror_mode": {
    "name": "ipython",
    "version": 3
   },
   "file_extension": ".py",
   "mimetype": "text/x-python",
   "name": "python",
   "nbconvert_exporter": "python",
   "pygments_lexer": "ipython3",
   "version": "3.6.8"
  }
 },
 "nbformat": 4,
 "nbformat_minor": 5
}
