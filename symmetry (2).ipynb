{
 "cells": [
  {
   "cell_type": "code",
   "execution_count": 1,
   "id": "formed-processor",
   "metadata": {},
   "outputs": [],
   "source": [
    "#Loriau Jade\n",
    "#Je choisis les 3 opérations de symetrie dans le fichier cif créé\n",
    "#il y a 4 atomes : Ca, Ga, Sn, H leurs positions sont dans le fichier cif\n",
    "\n",
    "Ca = [0.0, 0.0, 0.0]\n",
    "Ga = [0.667, 0.333, 0.616]\n",
    "Sn = [0.333, 0.667, 0.446]\n",
    "H = [0.667, 0.333, 0.964]"
   ]
  },
  {
   "cell_type": "code",
   "execution_count": 2,
   "id": "extreme-reproduction",
   "metadata": {},
   "outputs": [],
   "source": [
    "#import\n",
    "from pymatgen.ext.matproj import MPRester\n",
    "from pymatgen import Structure\n",
    "from pymatgen.io.cif import CifWriter \n",
    "from jupyter_jsmol.pymatgen import quick_view\n",
    "\n",
    "from jupyter_jsmol import JsmolView\n",
    "from ipywidgets import Layout, widgets, interact\n",
    "\n",
    "from pymatgen.core.operations import *"
   ]
  },
  {
   "cell_type": "code",
   "execution_count": 3,
   "id": "ignored-brazil",
   "metadata": {},
   "outputs": [],
   "source": [
    "#telechargement fichier cif et ecriture de la structure\n",
    "with MPRester(\"pte9sXqn7RBHRMrR72d\") as m:\n",
    "\n",
    "    # Structure for material id\n",
    "    structure = m.get_structure_by_material_id(\"mp-1018091\")\n",
    "    w = CifWriter(structure, 0.1);\n",
    "    w.write_file('mystruct.cif')"
   ]
  },
  {
   "cell_type": "code",
   "execution_count": 4,
   "id": "balanced-stream",
   "metadata": {},
   "outputs": [
    {
     "name": "stderr",
     "output_type": "stream",
     "text": [
      "/usr/local/lib64/python3.6/site-packages/pymatgen/io/cif.py:1194: UserWarning:\n",
      "\n",
      "Issues encountered while parsing CIF: Some fractional co-ordinates rounded to ideal values to avoid issues with finite precision.\n",
      "\n"
     ]
    },
    {
     "data": {
      "application/vnd.jupyter.widget-view+json": {
       "model_id": "a19b7713243743a290b31dcf85956c00",
       "version_major": 2,
       "version_minor": 0
      },
      "text/plain": [
       "JsmolView(layout=Layout(align_self='stretch', height='400px'))"
      ]
     },
     "metadata": {},
     "output_type": "display_data"
    }
   ],
   "source": [
    "\n",
    "s = Structure.from_file(\"mystruct.cif\")\n",
    "view = quick_view(s)\n",
    "\n",
    "display(view)"
   ]
  },
  {
   "cell_type": "code",
   "execution_count": 5,
   "id": "natural-poster",
   "metadata": {},
   "outputs": [],
   "source": [
    "view.script('select hydrogen; label on; color white')\n",
    "view.script('select tin; label on; color grey')\n",
    "view.script('select calcium; label on; color green')\n",
    "view.script('select gallium; label on; color pink')"
   ]
  },
  {
   "cell_type": "code",
   "execution_count": 6,
   "id": "suited-avatar",
   "metadata": {},
   "outputs": [
    {
     "name": "stdout",
     "output_type": "stream",
     "text": [
      "l'opération de symetrie est représentée sur le schéma ci-dessus\n",
      "le point Ga se retrouve en :  [-0.334  0.333  0.616]\n",
      "la matrice de rotation est : \n",
      " [[-1.  1.  0.]\n",
      " [ 0.  1.  0.]\n",
      " [ 0.  0.  1.]]\n",
      "le vecteur de translation est : [0, 0, 0]\n"
     ]
    }
   ],
   "source": [
    "# operation de symetrie sur l'atome 2 ->Ga\n",
    "print(\"l'opération de symetrie est représentée sur le schéma ci-dessus\")\n",
    "view.script(\"draw symop 5 {atomno=2}\")\n",
    "\n",
    "#operation de symetrie\n",
    "sym1 = SymmOp.from_xyz_string('-x+y, y, z')\n",
    "\n",
    "#operation sur le Ga\n",
    "s1 = sym1.operate(Ga)\n",
    "print('le point Ga se retrouve en : ', s1)\n",
    "\n",
    "#la matrice de rotation\n",
    "m1 = sym1.rotation_matrix\n",
    "print(\"la matrice de rotation est : \\n\",m1 )\n",
    "\n",
    "#le vecteur de translation\n",
    "print(\"le vecteur de translation est : [0, 0, 0]\")"
   ]
  },
  {
   "cell_type": "code",
   "execution_count": 7,
   "id": "falling-resident",
   "metadata": {},
   "outputs": [],
   "source": []
  },
  {
   "cell_type": "code",
   "execution_count": 108,
   "id": "prompt-panic",
   "metadata": {},
   "outputs": [],
   "source": []
  },
  {
   "cell_type": "code",
   "execution_count": 8,
   "id": "beginning-glucose",
   "metadata": {},
   "outputs": [
    {
     "data": {
      "application/vnd.jupyter.widget-view+json": {
       "model_id": "2895a8e43b8e4697982f501e8cf80924",
       "version_major": 2,
       "version_minor": 0
      },
      "text/plain": [
       "JsmolView(layout=Layout(align_self='stretch', height='400px'))"
      ]
     },
     "metadata": {},
     "output_type": "display_data"
    }
   ],
   "source": [
    "\n",
    "view1 = quick_view(s)\n",
    "display(view1)\n"
   ]
  },
  {
   "cell_type": "code",
   "execution_count": 9,
   "id": "wired-demographic",
   "metadata": {},
   "outputs": [],
   "source": [
    "\n",
    "view1.script('select hydrogen; label on; color white')\n",
    "view1.script('select tin; label on; color grey')\n",
    "view1.script('select calcium; label on; color green')\n",
    "view1.script('select gallium; label on; color pink')"
   ]
  },
  {
   "cell_type": "code",
   "execution_count": 10,
   "id": "sapphire-gauge",
   "metadata": {},
   "outputs": [
    {
     "name": "stdout",
     "output_type": "stream",
     "text": [
      "l'opération de symetrie est représentée sur le schéma ci-dessus\n",
      "le point Ca se retrouve en :  [0. 0. 0.]\n",
      "la matrice de rotation est \n",
      " :  [[ 1.  0.  0.]\n",
      " [ 1. -1.  0.]\n",
      " [ 0.  0.  1.]]\n",
      "le vecteur de translation est : [0, 0, 0]\n"
     ]
    }
   ],
   "source": [
    "# operation de symetrie sur l'atome 1 ->Ca\n",
    "print(\"l'opération de symetrie est représentée sur le schéma ci-dessus\")\n",
    "view1.script(\"draw symop 6 {atomno=1}\")\n",
    "\n",
    "#operation de symetrie\n",
    "sym2 = SymmOp.from_xyz_string('x, x-y, z')\n",
    "\n",
    "#operation sur le Ga\n",
    "s2 = sym2.operate(Ca)\n",
    "print('le point Ca se retrouve en : ', s2)\n",
    "\n",
    "#la matrice de rotation\n",
    "m2 = sym2.rotation_matrix\n",
    "print(\"la matrice de rotation est \\n : \",m2 )\n",
    "\n",
    "#le vecteur de translation\n",
    "print(\"le vecteur de translation est : [0, 0, 0]\")"
   ]
  },
  {
   "cell_type": "code",
   "execution_count": 85,
   "id": "ancient-consultation",
   "metadata": {},
   "outputs": [],
   "source": []
  },
  {
   "cell_type": "code",
   "execution_count": null,
   "id": "norwegian-render",
   "metadata": {},
   "outputs": [],
   "source": []
  },
  {
   "cell_type": "code",
   "execution_count": 11,
   "id": "indirect-teach",
   "metadata": {},
   "outputs": [
    {
     "data": {
      "application/vnd.jupyter.widget-view+json": {
       "model_id": "77b8bb6ec0cd4e16ac34f09a3729181e",
       "version_major": 2,
       "version_minor": 0
      },
      "text/plain": [
       "JsmolView(layout=Layout(align_self='stretch', height='400px'))"
      ]
     },
     "metadata": {},
     "output_type": "display_data"
    }
   ],
   "source": [
    "view2 = quick_view(s)\n",
    "display(view2)\n"
   ]
  },
  {
   "cell_type": "code",
   "execution_count": 12,
   "id": "innocent-state",
   "metadata": {},
   "outputs": [],
   "source": [
    "\n",
    "view2.script('select hydrogen; label on; color white')\n",
    "view2.script('select tin; label on; color grey')\n",
    "view2.script('select calcium; label on; color green')\n",
    "view2.script('select gallium; label on; color pink')"
   ]
  },
  {
   "cell_type": "code",
   "execution_count": 13,
   "id": "controversial-murder",
   "metadata": {},
   "outputs": [
    {
     "name": "stdout",
     "output_type": "stream",
     "text": [
      "l'opération de symetrie est représentée sur le schéma ci-dessus\n",
      "le point Ca se retrouve en :  [-0.667 -0.333  0.446]\n",
      "la matrice de rotation est \n",
      " :  [[ 0. -1.  0.]\n",
      " [-1.  0.  0.]\n",
      " [ 0.  0.  1.]]\n",
      "le vecteur de translation est : [0, 0, 0]\n"
     ]
    }
   ],
   "source": [
    "# operation de symetrie sur l'atome 3 ->Sn\n",
    "print(\"l'opération de symetrie est représentée sur le schéma ci-dessus\")\n",
    "view2.script(\"draw symop 4 {atomno=3}\")\n",
    "\n",
    "#operation de symetrie\n",
    "sym3 = SymmOp.from_xyz_string('-y, -x, z')\n",
    "\n",
    "#operation sur le Ga\n",
    "s3 = sym3.operate(Sn)\n",
    "print('le point Ca se retrouve en : ', s3)\n",
    "\n",
    "#la matrice de rotation\n",
    "m3 = sym3.rotation_matrix\n",
    "print(\"la matrice de rotation est \\n : \",m3 )\n",
    "\n",
    "#le vecteur de translation\n",
    "print(\"le vecteur de translation est : [0, 0, 0]\")"
   ]
  },
  {
   "cell_type": "code",
   "execution_count": 87,
   "id": "wrong-publisher",
   "metadata": {},
   "outputs": [],
   "source": []
  },
  {
   "cell_type": "code",
   "execution_count": null,
   "id": "rubber-resource",
   "metadata": {},
   "outputs": [],
   "source": []
  }
 ],
 "metadata": {
  "kernelspec": {
   "display_name": "Python 3",
   "language": "python",
   "name": "python3"
  },
  "language_info": {
   "codemirror_mode": {
    "name": "ipython",
    "version": 3
   },
   "file_extension": ".py",
   "mimetype": "text/x-python",
   "name": "python",
   "nbconvert_exporter": "python",
   "pygments_lexer": "ipython3",
   "version": "3.6.8"
  }
 },
 "nbformat": 4,
 "nbformat_minor": 5
}
